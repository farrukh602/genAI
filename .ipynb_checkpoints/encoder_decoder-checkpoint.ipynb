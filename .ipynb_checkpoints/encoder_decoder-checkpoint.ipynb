{
 "cells": [
  {
   "cell_type": "code",
   "execution_count": 182,
   "id": "WFVLJNeVr23Z",
   "metadata": {
    "id": "WFVLJNeVr23Z"
   },
   "outputs": [],
   "source": [
    "import numpy as np\n",
    "import torch\n",
    "from torch import nn\n",
    "import torchvision\n",
    "from torchvision import transforms, datasets\n",
    "import matplotlib.pyplot as plt\n",
    "import torch.nn.functional as F\n",
    "from torchsummary import summary"
   ]
  },
  {
   "cell_type": "code",
   "execution_count": 194,
   "id": "QH1dZjTySb7u",
   "metadata": {
    "colab": {
     "base_uri": "https://localhost:8080/"
    },
    "id": "QH1dZjTySb7u",
    "outputId": "c61a9a4e-f4f1-4e9a-9931-1cf9b0cc0f33"
   },
   "outputs": [],
   "source": [
    "# Load the Fashion MNIST dataset using torchvision\n",
    "transform = transforms.Compose([\n",
    "    transforms.ToTensor()\n",
    "])\n",
    "train_dataset = torchvision.datasets.FashionMNIST(root='./data', train=True,transform=transform, download=False)\n",
    "test_dataset = torchvision.datasets.FashionMNIST(root='./data', train=False, transform=transform, download=False)"
   ]
  },
  {
   "cell_type": "code",
   "execution_count": 180,
   "id": "8a220c06-dfc0-42a6-a6b1-27058b1b6a8f",
   "metadata": {},
   "outputs": [
    {
     "name": "stdout",
     "output_type": "stream",
     "text": [
      "----------------------------------------------------------------\n",
      "        Layer (type)               Output Shape         Param #\n",
      "================================================================\n",
      "            Conv2d-1           [-1, 32, 16, 16]             320\n",
      "              ReLU-2           [-1, 32, 16, 16]               0\n",
      "            Conv2d-3             [-1, 64, 8, 8]          18,496\n",
      "              ReLU-4             [-1, 64, 8, 8]               0\n",
      "            Conv2d-5            [-1, 128, 4, 4]          73,856\n",
      "              ReLU-6            [-1, 128, 4, 4]               0\n",
      "           Flatten-7                 [-1, 2048]               0\n",
      "            Linear-8                    [-1, 2]           4,098\n",
      "              ReLU-9                    [-1, 2]               0\n",
      "           Linear-10                 [-1, 2048]           6,144\n",
      "        Unflatten-11            [-1, 128, 4, 4]               0\n",
      "  ConvTranspose2d-12            [-1, 128, 8, 8]         262,272\n",
      "             ReLU-13            [-1, 128, 8, 8]               0\n",
      "  ConvTranspose2d-14           [-1, 64, 16, 16]         131,136\n",
      "             ReLU-15           [-1, 64, 16, 16]               0\n",
      "  ConvTranspose2d-16           [-1, 32, 32, 32]          32,800\n",
      "             ReLU-17           [-1, 32, 32, 32]               0\n",
      "           Conv2d-18            [-1, 1, 32, 32]             289\n",
      "          Sigmoid-19            [-1, 1, 32, 32]               0\n",
      "================================================================\n",
      "Total params: 529,411\n",
      "Trainable params: 529,411\n",
      "Non-trainable params: 0\n",
      "----------------------------------------------------------------\n",
      "Input size (MB): 0.00\n",
      "Forward/backward pass size (MB): 1.16\n",
      "Params size (MB): 2.02\n",
      "Estimated Total Size (MB): 3.18\n",
      "----------------------------------------------------------------\n"
     ]
    }
   ],
   "source": [
    "class Autoencoder(nn.Module):\n",
    "    def __init__(self):\n",
    "        super(Autoencoder,self).__init__()\n",
    "        self.encoder = nn.Sequential(\n",
    "                nn.Conv2d(1,32,3, stride=2, padding=1),\n",
    "                          nn.ReLU(),\n",
    "                          nn.Conv2d(32,64, 3, stride=2, padding=1),\n",
    "                          nn.ReLU(),\n",
    "                          nn.Conv2d(64,128,3,stride=2, padding=1),\n",
    "                          nn.ReLU(),\n",
    "                        nn.Flatten(start_dim=1),\n",
    "                         nn.Linear(2048,2),\n",
    "                         nn.ReLU(),)\n",
    "        self.decoder=nn.Sequential(\n",
    "            nn.Linear(2,2048),\n",
    "            nn.Unflatten(1,(128,4,4)),\n",
    "            nn.ConvTranspose2d(128, 128, 4, stride=2, padding=1),\n",
    "            nn.ReLU(),\n",
    "            nn.ConvTranspose2d(128, 64, 4, stride=2, padding=1),\n",
    "            nn.ReLU(),\n",
    "            nn.ConvTranspose2d(64,32,4, stride=2, padding=1),\n",
    "            nn.ReLU(),\n",
    "            nn.Conv2d(32,1,3, padding='same'),\n",
    "            nn.Sigmoid()\n",
    "            \n",
    "        )\n",
    "\n",
    "    def forward(self,x):\n",
    "        x = self.encoder(x)\n",
    "        x = self.decoder(x)\n",
    "        return x\n",
    "        \n",
    "            \n",
    "            \n",
    "            \n",
    "         \n",
    "model=Autoencoder()\n",
    "summary(model, (1,32,32))   "
   ]
  },
  {
   "cell_type": "markdown",
   "id": "980e81a4-31f8-4030-b586-f0bbe41e08a4",
   "metadata": {},
   "source": [
    "# Defining the Training Loop"
   ]
  },
  {
   "cell_type": "code",
   "execution_count": 198,
   "id": "242e08d9-b054-4c05-85f9-1380290e2697",
   "metadata": {},
   "outputs": [],
   "source": [
    "def train(model,num_epochs=5, batch_size=64, learning_rate=1e-3):\n",
    "    torch.manul_seed(42)\n",
    "    criterion = nn.MSELoss()\n",
    "    optimizer = torch.optim.Adam(model.parameters(),\n",
    "                            lr = learning_rate,\n",
    "                            weight_decay = 1e-5,)\n",
    "    train_loader= torch.utils.data.DataLoader(train_dataset)\n",
    "    outputs = []\n",
    "    for epoch in range(num_epochs):\n",
    "        for data in train_loader:\n",
    "            img, _ = data\n",
    "            recon  = model(img)\n",
    "            loss  = criterion(recon, img)\n",
    "            loss.backward()\n",
    "            optimizer.step()\n",
    "            optimizer.zero_grad()\n",
    "        print('Epoch:{}, Loss:{:.4f}'.format(eoch+1, float(loss)))\n",
    "        outputss.append((epoch, img, recon))\n",
    "    return outputs"
   ]
  },
  {
   "cell_type": "code",
   "execution_count": null,
   "id": "e45474ae-8b5f-414e-be2d-7c22ebd2403d",
   "metadata": {},
   "outputs": [],
   "source": []
  }
 ],
 "metadata": {
  "colab": {
   "provenance": []
  },
  "kernelspec": {
   "display_name": "Python 3 (ipykernel)",
   "language": "python",
   "name": "python3"
  },
  "language_info": {
   "codemirror_mode": {
    "name": "ipython",
    "version": 3
   },
   "file_extension": ".py",
   "mimetype": "text/x-python",
   "name": "python",
   "nbconvert_exporter": "python",
   "pygments_lexer": "ipython3",
   "version": "3.12.2"
  }
 },
 "nbformat": 4,
 "nbformat_minor": 5
}
