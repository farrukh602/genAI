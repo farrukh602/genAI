{
  "cells": [
    {
      "cell_type": "code",
      "source": [
        "import numpy as np\n",
        "import torch\n",
        "from torch import nn\n",
        "import torchvision\n",
        "import torchvision.transforms as transforms\n",
        "import matplotlib.pyplot as plt\n"
      ],
      "metadata": {
        "id": "WFVLJNeVr23Z"
      },
      "id": "WFVLJNeVr23Z",
      "execution_count": 6,
      "outputs": []
    },
    {
      "cell_type": "code",
      "source": [
        "# Load the Fashion MNIST dataset using torchvision\n",
        "train_dataset = torchvision.datasets.FashionMNIST(root='./data', train=True, download=True)\n",
        "test_dataset = torchvision.datasets.FashionMNIST(root='./data', train=False, download=True)"
      ],
      "metadata": {
        "colab": {
          "base_uri": "https://localhost:8080/"
        },
        "id": "QH1dZjTySb7u",
        "outputId": "5116945d-4157-4a70-a503-f17be2a2ecf0"
      },
      "id": "QH1dZjTySb7u",
      "execution_count": 3,
      "outputs": [
        {
          "output_type": "stream",
          "name": "stdout",
          "text": [
            "Downloading http://fashion-mnist.s3-website.eu-central-1.amazonaws.com/train-images-idx3-ubyte.gz\n",
            "Downloading http://fashion-mnist.s3-website.eu-central-1.amazonaws.com/train-images-idx3-ubyte.gz to ./data/FashionMNIST/raw/train-images-idx3-ubyte.gz\n"
          ]
        },
        {
          "output_type": "stream",
          "name": "stderr",
          "text": [
            "100%|██████████| 26421880/26421880 [00:06<00:00, 3981711.56it/s] \n"
          ]
        },
        {
          "output_type": "stream",
          "name": "stdout",
          "text": [
            "Extracting ./data/FashionMNIST/raw/train-images-idx3-ubyte.gz to ./data/FashionMNIST/raw\n",
            "\n",
            "Downloading http://fashion-mnist.s3-website.eu-central-1.amazonaws.com/train-labels-idx1-ubyte.gz\n",
            "Downloading http://fashion-mnist.s3-website.eu-central-1.amazonaws.com/train-labels-idx1-ubyte.gz to ./data/FashionMNIST/raw/train-labels-idx1-ubyte.gz\n"
          ]
        },
        {
          "output_type": "stream",
          "name": "stderr",
          "text": [
            "100%|██████████| 29515/29515 [00:00<00:00, 337485.88it/s]\n"
          ]
        },
        {
          "output_type": "stream",
          "name": "stdout",
          "text": [
            "Extracting ./data/FashionMNIST/raw/train-labels-idx1-ubyte.gz to ./data/FashionMNIST/raw\n",
            "\n",
            "Downloading http://fashion-mnist.s3-website.eu-central-1.amazonaws.com/t10k-images-idx3-ubyte.gz\n",
            "Downloading http://fashion-mnist.s3-website.eu-central-1.amazonaws.com/t10k-images-idx3-ubyte.gz to ./data/FashionMNIST/raw/t10k-images-idx3-ubyte.gz\n"
          ]
        },
        {
          "output_type": "stream",
          "name": "stderr",
          "text": [
            "100%|██████████| 4422102/4422102 [00:05<00:00, 848213.57it/s] \n"
          ]
        },
        {
          "output_type": "stream",
          "name": "stdout",
          "text": [
            "Extracting ./data/FashionMNIST/raw/t10k-images-idx3-ubyte.gz to ./data/FashionMNIST/raw\n",
            "\n",
            "Downloading http://fashion-mnist.s3-website.eu-central-1.amazonaws.com/t10k-labels-idx1-ubyte.gz\n",
            "Downloading http://fashion-mnist.s3-website.eu-central-1.amazonaws.com/t10k-labels-idx1-ubyte.gz to ./data/FashionMNIST/raw/t10k-labels-idx1-ubyte.gz\n"
          ]
        },
        {
          "output_type": "stream",
          "name": "stderr",
          "text": [
            "100%|██████████| 5148/5148 [00:00<00:00, 14619009.47it/s]"
          ]
        },
        {
          "output_type": "stream",
          "name": "stdout",
          "text": [
            "Extracting ./data/FashionMNIST/raw/t10k-labels-idx1-ubyte.gz to ./data/FashionMNIST/raw\n",
            "\n"
          ]
        },
        {
          "output_type": "stream",
          "name": "stderr",
          "text": [
            "\n"
          ]
        }
      ]
    },
    {
      "cell_type": "code",
      "source": [
        "# Define the preprocessing function\n",
        "def preprocess(imgs):\n",
        "    imgs = imgs.float() / 255.0  # Convert to float32 and normalize to [0, 1]\n",
        "    imgs = torch.nn.functional.pad(imgs, (2, 2, 2, 2), mode='constant', value=0.0)  # Pad with 0s\n",
        "    imgs = imgs.unsqueeze(1)  # Add channel dimension\n",
        "    return imgs\n",
        "\n",
        "# Extract and preprocess the data\n",
        "x_train = preprocess(train_dataset.data)\n",
        "x_test = preprocess(test_dataset.data)\n",
        "\n",
        "# Extract labels\n",
        "y_train = train_dataset.targets\n",
        "y_test = test_dataset.targets"
      ],
      "metadata": {
        "id": "7_Fwgb_bryrh"
      },
      "id": "7_Fwgb_bryrh",
      "execution_count": 4,
      "outputs": []
    },
    {
      "cell_type": "code",
      "source": [
        "import torch\n",
        "import torch.nn as nn\n",
        "import torch.nn.functional as F\n",
        "\n",
        "class Encoder(nn.Module):\n",
        "    def __init__(self, input_shape):\n",
        "        super(Encoder, self).__init__()\n",
        "        self.conv1 = nn.Conv2d(in_channels=input_shape[0], out_channels=32, kernel_size=3, stride=2, padding=1)\n",
        "        self.conv2 = nn.Conv2d(in_channels=32, out_channels=64, kernel_size=3, stride=2, padding=1)\n",
        "        self.conv3 = nn.Conv2d(in_channels=64, out_channels=128, kernel_size=3, stride=2, padding=1)\n",
        "        self.flatten = nn.Flatten()\n",
        "        # Calculating the flattened size after convolutions\n",
        "        dummy_input = torch.zeros(1, *input_shape)\n",
        "        self.flattened_size = self._get_flattened_size(dummy_input)\n",
        "        self.fc = nn.Linear(self.flattened_size, 2)\n",
        "\n",
        "    def _get_flattened_size(self, x):\n",
        "        x = self.conv1(x)\n",
        "        x = self.conv2(x)\n",
        "        x = self.conv3(x)\n",
        "        return x.view(1, -1).size(1)\n",
        "\n",
        "    def forward(self, x):\n",
        "        x = F.relu(self.conv1(x))\n",
        "        x = F.relu(self.conv2(x))\n",
        "        x = F.relu(self.conv3(x))\n",
        "        x = self.flatten(x)\n",
        "        x = self.fc(x)\n",
        "        return x\n",
        "\n",
        "# Example usage\n",
        "input_shape = (1, 32, 32)  # Example input shape for grayscale images of size 32x32\n",
        "encoder = Encoder(input_shape)\n",
        "print(encoder)\n"
      ],
      "metadata": {
        "colab": {
          "base_uri": "https://localhost:8080/"
        },
        "id": "i6nmXvoWbHft",
        "outputId": "6d846632-b5f8-4bd5-959e-02d7bddf7dd3"
      },
      "id": "i6nmXvoWbHft",
      "execution_count": 5,
      "outputs": [
        {
          "output_type": "stream",
          "name": "stdout",
          "text": [
            "Encoder(\n",
            "  (conv1): Conv2d(1, 32, kernel_size=(3, 3), stride=(2, 2), padding=(1, 1))\n",
            "  (conv2): Conv2d(32, 64, kernel_size=(3, 3), stride=(2, 2), padding=(1, 1))\n",
            "  (conv3): Conv2d(64, 128, kernel_size=(3, 3), stride=(2, 2), padding=(1, 1))\n",
            "  (flatten): Flatten(start_dim=1, end_dim=-1)\n",
            "  (fc): Linear(in_features=2048, out_features=2, bias=True)\n",
            ")\n"
          ]
        }
      ]
    },
    {
      "cell_type": "code",
      "source": [
        "\n"
      ],
      "metadata": {
        "id": "ydQPnmMtr0H2",
        "outputId": "c6976562-a5e4-41ff-d6dd-bf886a8c8a9e",
        "colab": {
          "base_uri": "https://localhost:8080/"
        }
      },
      "id": "ydQPnmMtr0H2",
      "execution_count": 7,
      "outputs": [
        {
          "output_type": "execute_result",
          "data": {
            "text/plain": [
              "2048"
            ]
          },
          "metadata": {},
          "execution_count": 7
        }
      ]
    },
    {
      "cell_type": "code",
      "source": [
        "\n",
        "enc=Encoder(x_train[0].shape)\n",
        "enc.flattened_size.size(1)"
      ],
      "metadata": {
        "colab": {
          "base_uri": "https://localhost:8080/"
        },
        "id": "774NShsuclIt",
        "outputId": "56bc4087-8f4a-45f0-aef7-96ba98a12a40"
      },
      "id": "774NShsuclIt",
      "execution_count": 8,
      "outputs": [
        {
          "output_type": "execute_result",
          "data": {
            "text/plain": [
              "2048"
            ]
          },
          "metadata": {},
          "execution_count": 8
        }
      ]
    },
    {
      "cell_type": "markdown",
      "source": [
        "# Autoencoder:<br>\n",
        "Autoencoder is a neural network made up of two parts:\n",
        " * An `encoder` network that compresses high dimensional input data into a lower dimensional embedding vector\n",
        " * A `decoder` network that decompresses a given back to the original domain e.g., back to an image."
      ],
      "metadata": {
        "id": "oEImZzRi6Yd9"
      },
      "id": "oEImZzRi6Yd9"
    },
    {
      "cell_type": "markdown",
      "source": [
        "# Encoder Architecture\n",
        "![image.png](data:image/png;base64,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)"
      ],
      "metadata": {
        "id": "LuetRYph72zG"
      },
      "id": "LuetRYph72zG"
    },
    {
      "cell_type": "code",
      "source": [
        "class Encoder(nn.Module):\n",
        "  def __init__(self, input_shape):\n",
        "    super(Encoder, self).__init__()\n",
        "    self.conv1 = nn.Conv2d(in_channels = input_shape[0], out_channels=32,\n",
        "                           kernel_size=3, stride=2, padding=1)\n",
        "    self.conv2 = nn.Conv2d(in_channels=32, out_channels=64,\n",
        "                           kernel_size=3, stride=2, padding=1)\n",
        "    self.conv3=nn.Conv2d(in_channels=64, out_channels=128,\n",
        "                         kernel_size=3, stride=2, padding=1)\n",
        "    self.flatten=nn.Flatten()\n",
        "    # calculate the flatten size after convolutions\n",
        "    dummy_input=torch.zeros(1, *input_shape)\n",
        "    self.flattened_size=self._get_flattened_size(dummy_input)\n",
        "\n",
        "  def _get_flattened_size(self, x):\n",
        "    x = self.conv1(x)\n",
        "    x = self.conv2(x)\n",
        "    x = self.conv3(x)\n",
        "    return x.view(1,-1)\n",
        "  def forward(self, x):\n",
        "     x = F.relu(self.conv1(x))\n",
        "     x = F.relu(self.conv2(x))\n",
        "     x = F.relu(self.conv3(x))\n",
        "     x = self.flatten(x)\n",
        "     x = self.fc(x)\n",
        "     return x"
      ],
      "metadata": {
        "id": "RALJu8pk_ebT"
      },
      "id": "RALJu8pk_ebT",
      "execution_count": 9,
      "outputs": []
    },
    {
      "cell_type": "code",
      "source": [
        "class Decoder(nn.Module):\n",
        "  def __init__(self):\n",
        "    super(Decoder, self).__init__()\n",
        "    self.dense = nn.Dense()"
      ],
      "metadata": {
        "id": "Ee6WNXfRGQa9",
        "outputId": "22e34d4c-80a9-43e4-dd22-06863cfaa5d1",
        "colab": {
          "base_uri": "https://localhost:8080/"
        }
      },
      "id": "Ee6WNXfRGQa9",
      "execution_count": null,
      "outputs": [
        {
          "output_type": "execute_result",
          "data": {
            "text/plain": [
              "TensorShape([2048])"
            ]
          },
          "metadata": {},
          "execution_count": 49
        }
      ]
    },
    {
      "cell_type": "code",
      "source": [],
      "metadata": {
        "id": "wF9PX9ekQIhf"
      },
      "id": "wF9PX9ekQIhf",
      "execution_count": null,
      "outputs": []
    }
  ],
  "metadata": {
    "kernelspec": {
      "display_name": "Python 3 (ipykernel)",
      "language": "python",
      "name": "python3"
    },
    "language_info": {
      "codemirror_mode": {
        "name": "ipython",
        "version": 3
      },
      "file_extension": ".py",
      "mimetype": "text/x-python",
      "name": "python",
      "nbconvert_exporter": "python",
      "pygments_lexer": "ipython3",
      "version": "3.12.2"
    },
    "colab": {
      "provenance": []
    }
  },
  "nbformat": 4,
  "nbformat_minor": 5
}